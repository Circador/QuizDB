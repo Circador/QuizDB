{
 "cells": [
  {
   "cell_type": "code",
   "execution_count": 80,
   "metadata": {},
   "outputs": [
    {
     "name": "stdout",
     "output_type": "stream",
     "text": [
      "The autoreload extension is already loaded. To reload it, use:\n",
      "  %reload_ext autoreload\n"
     ]
    }
   ],
   "source": [
    "%load_ext autoreload\n",
    "%autoreload 2\n",
    "\n",
    "from Loader import Loader"
   ]
  },
  {
   "cell_type": "code",
   "execution_count": 19,
   "metadata": {},
   "outputs": [],
   "source": [
    "l = Loader(\"hft_xi_round_2.docx\")"
   ]
  },
  {
   "cell_type": "code",
   "execution_count": 20,
   "metadata": {},
   "outputs": [
    {
     "name": "stdout",
     "output_type": "stream",
     "text": [
      "\n",
      "\n"
     ]
    },
    {
     "data": {
      "text/plain": [
       "'hft_xi_round_2.html'"
      ]
     },
     "execution_count": 20,
     "metadata": {},
     "output_type": "execute_result"
    }
   ],
   "source": [
    "l.load_doc()"
   ]
  },
  {
   "cell_type": "code",
   "execution_count": 21,
   "metadata": {},
   "outputs": [],
   "source": [
    "filename = 'hft_xi_round_2.html'"
   ]
  },
  {
   "cell_type": "code",
   "execution_count": 22,
   "metadata": {},
   "outputs": [],
   "source": [
    "import utils"
   ]
  },
  {
   "cell_type": "code",
   "execution_count": 264,
   "metadata": {},
   "outputs": [],
   "source": [
    "from Packet import Packet"
   ]
  },
  {
   "cell_type": "code",
   "execution_count": 187,
   "metadata": {},
   "outputs": [
    {
     "data": {
      "text/plain": [
       "[u'Round 2',\n",
       " u'Tossups',\n",
       " u'1. <strong>He\\u2019s not Torricelli, but this man names a point <em>P</em> in acute triangles for which the sum of the distances from <em>P</em> to the vertices is minimized. This man\\u2019s namesake numbers have the form \\u201c2 to the 2 to <em>n</em> plus 1,\\u201d and he names a statement that for a prime <em>p</em>, then [<em>read underlined part slowly</em>] (*)</strong> <em><em>p divides \\u201c(a to the p) minus a.\\u201d</em></em> One of this man\\u2019s statements was proven using the Taniyama-Shimura conjecture by Andrew Wiles and states that there are no nontrivial integer solutions to the equation \\u201c<em>a</em> to the <em>n</em>\\u201d plus \\u201c<em>b</em> to the <em>n</em>\\u201d equals \\u201c<em>c</em> to the <em>n</em>\\u201d for <em>n</em> greater than two. For 10 points, name this French mathematician with namesake \\u201cLittle\\u201d and \\u201cLast\\u201d theorems.',\n",
       " u'ANSWER: Pierre de <strong><em>Fermat</em></strong> (accept answers like <strong><em>Fermat</em></strong>\\u2019s Last Theorem)',\n",
       " u'2. <strong>Mike Lazzo oversees this channel at its \\u201cWilliams Street\\u201d headquarters, and many of this channel\\u2019s first shows were created using recycled Hanna-Barbera material. This channel stylized words in square brackets for its \\u201cbumps\\u201d, and its former shows include (*)</strong> <em>Aqua Teen Hunger Force</em> and <em>The Boondocks</em>. This channel has an anime-themed block called Toonami, and both <em>Family Guy</em> and <em>Futurama</em> were resurrected after being cancelled by Fox and running on this channel. This channel\\u2019s current shows include <em>Robot Chicken</em> and <em>Rick and Morty</em>. For 10 points, name this more mature channel that runs on Cartoon Network after eight o\\u2019clock PM.',\n",
       " u'ANSWER: <strong><em>Adult Swim</em></strong> (prompt on <em>Cartoon Network</em>; accept <strong><em>[adult swim]</em></strong>; anti-prompt [ask for less specific] on <em>Toonami</em> before read)',\n",
       " u'3. <strong>This writer complained about the theft of a poetic foot preventing his writing a heroic epic, instead writing about his affair with Corinna. A collection of letters titled <em>Tristia</em> or \\u201cLamentations\\u201d were written by this man after a \\u201cpoem and error\\u201d caused his (*)</strong> exile to the Black Sea. This man wrote several letters from spurned heroines in his <em>Heroidae</em>. One of this writer\\u2019s works has the Latin title <em>Ars Amatoria</em> and teaches skills in seduction, and another contains several mythological tales centering on transformations. For 10 points, name this Roman writer, the author of <em>The Art of Love</em> and <em>The Metamorphoses</em>.',\n",
       " u'ANSWER: <strong><em>Ovid</em></strong> (or Publius <strong><em>Ovid</em></strong>ius Naso)',\n",
       " u'4. <strong>The background of this painting depicts <em>Minerva Punishing Arachne</em> and <em>Apollo\\u2019s Victory over Marsyas</em> hanging from the wall, both by Peter Paul Rubens. The vanishing point of this painting is the hand of a man standing on a staircase in a (*)</strong> doorway at the right rear of the work. The artist of this work appears in it wearing a breastplate with a red cross and working at an easel. A mirror in the background of this painting reflects the royals who commissioned it, while in the foreground, two servants and a dwarf flank the Infanta Margarita. For 10 points, name this depiction of the Spanish court, the most famous work of Diego Vel\\xe1zquez.',\n",
       " u'ANSWER: <em>Las <strong><em>Meninas</em></strong></em> (or <em>The <strong><em>Maids of Honor</em></strong></em>)',\n",
       " u'5. <strong>One poem about this figure opens the collection <em>The Town Down the River</em>, was written by E.A. Robinson, and terms this figure \\u201cThe Master.\\u201d Because \\u201ckings must murder still,\\u201d this figure cannot \\u201csleep upon his hill\\u201d in a Vachel Lindsay poem in which this figure \\u201cWalks At (*)</strong> Midnight.\\u201d The \\u201cwestern orb sailing the heaven\\u201d is compared to this man in a poem observing when \\u201cthe great star early droop\\u2019d in the western sky\\u201d that\\u2019s titled \\u201cWhen Lilacs Last in the Dooryard Bloom\\u2019d.\\u201d A poem declares \\u201cour fearful trip is done,\\u201d though this man is \\u201cfallen cold and dead.\\u201d For 10 points, Walt Whitman\\u2019s \\u201cO Captain! My Captain!\\u201d laments the death of what president?',\n",
       " u'ANSWER: Abraham \\u201cAbe\\u201d <strong><em>Lincoln</em></strong>',\n",
       " u'6. <strong>One of these objects unofficially named Bellerophon was discovered in 1995 using the pulsar timing method by Michel Mayor and Didier Queloz. These objects can be observed using small shifts in radial velocity, or by observing periodic (*)</strong> dimming events using the \\u201ctransit\\u201d method. Examples of these objects include 51 Pegasi b and Gliese 229 B, and their discovery is the main goal of the Kepler Mission. Ideally, these objects would lie in the Goldilocks zone, since they would then likely have liquid water and be habitable. For 10 points, name these bodies that orbit stars other than the Sun.',\n",
       " u'ANSWER: <strong><em>exoplanets</em></strong> (accept <strong><em>extra-solar</em></strong> planets; accept descriptions like \\u201c<strong><em>planets outside our solar system</em></strong>\\u201d before \\u201cFor 10 points\\u201d; prompt on just <em>planet</em>s; anti-prompt [ask for less specific] on <em>hot Jupiter</em>s)',\n",
       " u'7. <strong>This man\\u2019s daughter was the first person to be married at Niagara Falls, and she disappeared while traveling aboard the <em>Patriot</em>. This man was the first real leader of the Tammany Society, and he became a senator after defeating Philip (*)</strong> Schuyler in an election. James Wilkinson co-organized one plan with this man, and the Twelfth Amendment was passed in response to an election this Democratic-Republican lost. This man led a conspiracy to create an independent country in the Texas Territory after losing the Election of 1808 and becoming Jefferson\\u2019s Vice-President. For 10 points, name this man who shot Alexander Hamilton.',\n",
       " u'ANSWER: <strong><em>Aaron Burr</em></strong> Jr. (<em>Ed\\u2019s note: Burr took Hamilton\\u2019s \\u201cmy shot\\u201d song too seriously...</em>)',\n",
       " u'8. <strong>At a Halloween party set in this city, a character plays a blindfolded game and selects the title object, which symbolizes death. A boy living in this city fails to buy a gift at the title (*)</strong> bazaar, and in this setting of \\u201cClay\\u201d and \\u201cAraby,\\u201d Gabriel Conroy\\u2019s wife has memories of Michael Furey. A novel ending \\u201cyes i said yes i will yes\\u201d is set in this city, and it titles a short story collection including \\u201cThe Dead.\\u201d This city is home to the residents Blazes Boylan, Stephen Dedalus, and Molly and Leopold Bloom. For 10 points, name this city, the setting of the novel <em>Ulysses</em> by James Joyce.',\n",
       " u'ANSWER: <strong><em>Dublin</em></strong>, Ireland (accept <em><strong><em>Dubliners</em></strong></em>)',\n",
       " u'9. <strong>An action Naaman took to heal his leprosy is typologically used as evidence for this action. In Catholicism, a catuchemen is preparing to do this action, and it can be done \\u201cof desire\\u201d if not done before death. In Matthew 28, Jesus instructs the listeners to make (*)</strong> \\u201cdisciples of all nations\\u201d by doing this action. It can be performed by affusion or aspersion, and the largest Protestant group in the United States is named for this sacrament. Most perform this sacrament \\u201cin the name of the Father, and of the Son, and of the Holy Spirit.\\u201d For 10 points, name this sacrament in which a person is adopted into Christianity by having water poured on them.',\n",
       " u'ANSWER: <strong><em>baptism</em></strong> (accept word forms like <strong><em>Baptist</em></strong>s or Southern <strong><em>Baptist</em></strong> Convention; prompt on <em>ablut</em>ion or <em>wash</em>ing)',\n",
       " u'10. <strong>An upper value of 10 to the -28 was set for the EDM of this particle, though a non-zero electric dipole moment for it would violate PT-symmetry. The \\u201cfast\\u201d forms of these particles are converted into their \\u201cthermal\\u201d forms by a namesake moderator. (*)</strong> Spallation usually refers to the production of these particles, and they have a lifetime of approximately 15 minutes. Two down quarks and one up quark compose this baryon that was discovered by James Chadwick in 1932. Isotopes differ in their number of these particles. For 10 points, name these chargeless particles found in atomic nuclei along with protons.',\n",
       " u'ANSWER: <strong><em>neutron</em></strong>s (do <em>not</em> accept \\u201cneutrinos\\u201d)',\n",
       " u'11. <strong>Henri Hubert collaborated with Marcel Mauss on a \\u201cGeneral Theory\\u201d of this phenomenon. This was the third thing listed in the title of E.E. Evans-Pritchard book about the Azande people, and Malinowski\\u2019s final book on the Trobriand Islanders is titled after (*)</strong> \\u201cCoral Gardens\\u201d and this practice. Frazer\\u2019s <em>The Golden Bough</em> proposes this practice precedes science and religion, and a non-rational reasoning underlies a \\u201cthinking\\u201d named after it. Grimoires, pentagrams, and chants might be used in the Western form of this practice. For 10 points, name this practice common in early societies and performed by people like shamans with the use of rituals and spells.',\n",
       " u'ANSWER: <strong><em>magic</em></strong> (accept obvious synonyms like <strong><em>spell</em></strong>s or <strong><em>sorcery</em></strong> or <strong><em>ritual</em></strong>s if they haven\\u2019t been read yet; prompt on specific practices, like <em>witch</em>craft or <em>oracle</em>s or <em>Satan</em>ism)',\n",
       " u'12. <strong>The current heir to this office rose to it in 2009 after the death of Ertugul. This was the office most famously represented by a monogram called the tughra, and the \\u201cValide\\u201d was the mother of its holder. This office sat atop a government metonymically called the Sublime Porte, and the \\u201cChief (*)</strong> Black Eunuch\\u201d served this office by supervising the Seraglio. These rulers belonged to the Osman dynasty, and the Prime Minister under this ruler was called the Grand Vizier. For 10 points, name this office, held by people like Mehmet the Conqueror and Suleiman the Magnificent from their throne in what\\u2019s now Istanbul, Turkey.',\n",
       " u'ANSWER: <strong><em>sultan</em></strong> of the <strong><em>Ottoman</em></strong> Empire (prompt on partial answer; accept <strong><em>caliph</em></strong>, <strong><em>emperor</em></strong>, <strong><em>khan</em></strong>. <strong><em>Shah</em></strong>, or other synonyms in place of sultan but do not accept or prompt on \\u201cOttoman king\\u201d; accept head of the <strong><em>House of Osman</em></strong> before \\u201cOsman\\u201d is read)',\n",
       " u'13. <strong>The radicular arteries supply blood to this structure, and it develops under influence of the Sonic hedgehog gene on the basal plate. This structure is the lower of the two protected by three membranes called the meninges, and its top begins at the (*)</strong> medulla oblongata. This structure has 31 individual segments, and like the structure surrounding it, it has cervical and lumbar regions. This structure oversees the knee jerk reflex, and together with the brain, it makes up the central nervous system. For 10 points, name this collection of nerves running down the back of the body and enclosed by a similarly named vertebral column of bones.',\n",
       " u'ANSWER: <strong><em>spinal cord</em></strong> (do not accept or prompt on \\u201cspine\\u201d; those are the bones)',\n",
       " u'14. <strong>A specific early aspect of this entity was represented by the god Khepri. The uraeus was an image that combined the snake-like Wadjet and another item representing this entity, and the Khufu ship symbolized a mythical version of this entity that was regularly confronted by (*)</strong> Apep. A \\u201cdisk\\u201d of this entity was deified as the god Aten, and a namesake \\u201cbarge\\u201d represented this entity. The rolling of dung beetles was compared to the movement of this entity, and the city of Heliopolis is literally named after this astronomical object. For 10 points, name this cosmic entity represented by the Egyptian god Ra.',\n",
       " u'ANSWER: <strong><em>sun</em></strong> (accept <strong><em>solar</em></strong> and word forms)',\n",
       " u'15. <strong>This party\\u2019s principles are outlined in a section of its constitution called Clause Four, and it lost power after the release of a probably forged letter attributed to Grigory Zinoviev. One of this party\\u2019s platforms was termed the (*)</strong> \\u201clongest suicide note in history,\\u201d and came in an election in which Michael Foot and allies were trounced. The first prime minister from this party was Ramsay MacDonald. Under this party\\u2019s leader Clement Attlee, the National Health Service was inaugurated, and a \\u201cnew\\u201d form of this political party was championed by Tony Blair. For 10 points, name this British political party that opposes the Conservatives.',\n",
       " u'ANSWER: <strong><em>Labour</em></strong> Party',\n",
       " u'16. <strong>Several rivers in this location collect from a statue of the Old Man of Crete that leaks tears from its cracks, and this place contains a series of ditches connected by rock bridges known as the Malebolge. A fiery citadel forming the city of (*)</strong> Dis appears in this place. The lowest point in this place is a frozen lake, and it contains the Wood of Suicides. The gate to this location is inscribed \\u201cAbandon all hope, ye who enter here,\\u201d and usurers, heretics, and frauds are among those imprisoned in the nine circles that make up this location. For 10 points, give this setting of the first work in Dante\\u2019s <em>Divine Comedy</em>.',\n",
       " u'ANSWER: Dante\\u2019s <strong><em>hell</em></strong> (accept <em>The <strong><em>Inferno</em></strong></em>; accept obvious synonyms like the <strong><em>underworld</em></strong>, but do not accept or prompt on \\u201cpurgatory\\u201d; prompt on the <em>afterlife</em> and synonyms; anti-prompt [ask for less specific] on specific sections/circles of hell; <em>Ed\\u2019s note: prompt on <em>Yale</em></em>)',\n",
       " u'17. <strong>Maurice Ravel wrote this many string quartets, and Zoltan Kold\\xe1y\\u2019s [\\u201cko-DIE-ee\\u201d] Opus 8 is a B-minor sonata for this many performers. This is the number of independent voices in Gregorian chant. A symphony of this number quotes its composer\\u2019s <em>Songs of a Wayfarer</em> and features a (*)</strong> funeral march based on a minor-key version of <em>Frere Jacques</em>. A perfect cadence ends on the chord denoted by this number, which is also known as the tonic. Gustav Mahler\\u2019s <em>Titan</em> symphony has this number, which is also the number of sharps in the key signature of G major. For 10 points, name this number of performers in a solo.',\n",
       " u'ANSWER: <strong><em>one</em></strong> (accept equivalents like <strong><em>first</em></strong>)',\n",
       " u'18. <strong>Bob Geldof led a flotilla in opposition to another flotilla supporting this initiative, and it was opposed by an operation to hand out croissants. Jo Cox was possibly killed for her opposition to this initiative, and \\u201c350 million\\u201d was mentioned on a (*)</strong> bus ad supporting this initiative. The goal of this initiative is governed by Article 50 of the Lisbon Treaty. Theresa May became the head of government in the wake of this campaign, and Nigel Farage of the Independence Party and Boris Johnson of the Conservatives led its winning side. For 10 points, \\u201cRemain\\u201d and \\u201cLeave\\u201d were the two sides of what campaign for Britain to leave the European Union?',\n",
       " u'ANSWER: <strong><em>Brexit</em></strong> (accept synonyms like <strong><em>Britain leaving the E</em></strong>uropean <strong><em>U</em></strong>nion before \\u201cBritain\\u201d is read; <em>Ed\\u2019s note: the derisively nicknamed \\u201cBattle of the Thames\\u201d was way less serious than I made it sound</em>)',\n",
       " u'19. <strong>In this film, a shot of a group portrait of one company\\u2019s staff zooms in until changing to the same staff sitting for a portrait at another company they\\u2019ve all defected to. The trailer for this film was a mockumentary about its production. This film popularized the (*)</strong> \\u201cdeep focus\\u201d technique, and it incorporates a newsreel entitled \\u201cNews on the March\\u201d at its beginning. Use of extreme close-ups in this film include one of a snowglobe being dropped and the title character\\u2019s lips as he says \\u201cRosebud\\u201d before dying. For 10 points, name this movie directed by Orson Welles, which documents the rise and fall of the title newspaper mogul.',\n",
       " u'ANSWER: <em><strong><em>Citizen Kane</em></strong></em>',\n",
       " u'20. <strong>A massive 1657 fire in this city was legendarily begun by a priest attempting to burn a cursed robe. The Ak\\u014d incident in a namesake castle in this city began a legend involving forty-seven warriors, and the Boshin War culminated in the capture and (*)</strong> renaming of this city. The Treaty of Amity and Commerce was signed on a ship in the bay of this city, and the capital of the Showa period was this city. The Tokugawa shogunate was also named after this city, and following the beginning of the Meiji Restoration, the capital was moved from Kyoto to this city. For 10 points, name this city that was known as Edo before taking its modern name as Japan\\u2019s capital.',\n",
       " u'ANSWER: <strong><em>Tokyo</em></strong> (accept <strong><em>Edo</em></strong> before mention)',\n",
       " u'21. <strong>This author\\u2019s last book contains poems about \\u201cStages\\u201d and \\u201cSoap Bubbles\\u201d and ends with a story about Dasa killing his half-brother as one of a collected \\u201cThree Lives.\\u201d In one of this author\\u2019s books, the title character briefly works for the businessman (*)</strong> Kamaswami and falls in love with the courtesan Kamala before meeting the ferryman Vasudeva. In another of his books, Pablo brings Harry Haller to the Magic Theatre after Harry reads the title treatise about an animalistic man. For 10 points, name this German author of the books <em>The Glass Bead Game</em>, <em>Siddhartha</em>, and <em>Steppenwolf</em>.',\n",
       " u'ANSWER: Hermann <strong><em>Hesse</em></strong>',\n",
       " u'Bonuses',\n",
       " u'1. While leading an expedition up the R\\xedo de la Plata, this man faced a mutiny from his subordinates Martin M\\xe9ndez and Miguel de Rodas, so he left them to die on an island. For 10 points each:',\n",
       " u'[10] Name this Italian-born explorer. He led several English attempts to find the Northwest Passage after accompanying an expedition led by his father John which discovered the North American mainland.',\n",
       " u'ANSWER: <strong><em>S</em></strong>ebastian <strong><em>Cabot</em></strong> (or <strong><em>S</em></strong>ebastiano <strong><em>Caboto</em></strong>; prompt on <em>Cabot</em>)',\n",
       " u'[10] Sebastian Cabot may have been the second explorer to accomplish this feat. The first instance of this travelling feat is usually credited to Ferdinand Magellan.',\n",
       " u'ANSWER: <strong><em>circumnavigating</em></strong> the world (accept word forms; accept synonyms for <strong><em>sail</em></strong>ing <strong><em>around</em></strong> the world)',\n",
       " u'[10] Sebastian Cabot may also have discovered the entrance to a body of water named for this captain of the <em>Half-Moon</em>. A mutiny against this man led him to be cast adrift in that body of water, where he probably died.',\n",
       " u'ANSWER: Henry <strong><em>Hudson</em></strong> (accept <strong><em>Hudson</em></strong> Bay)',\n",
       " u'2. This author included a symbol from <em>Tristram Shandy</em> at the beginning of his book <em>The Wild Ass\\u2019s Skin</em>. For 10 points each:',\n",
       " u'[10] Name this French author who included <em>The Wild Ass\\u2019s Skin</em>, as well as <em>Old Goriot</em> and <em>Cousin Bette</em> in his extremely ambitious series <em>The Human Comedy</em>.',\n",
       " u'ANSWER: Honor\\xe9 de <strong><em>Balzac</em></strong>',\n",
       " u'[10] Upon reading <em>The Wild Ass\\u2019s Skin</em>, Eveline Ha\\u0144ska sent Balzac a letter signed with this name, leading to a correspondence and their eventual marriage. In an Albert Camus novel with this title, Meursault suffers an existential crisis before shooting the Arab.',\n",
       " u\"ANSWER: \\u201cThe <strong><em>Stranger</em></strong>\\u201d (or L'<strong><em>\\xc9trang\\xe8re</em></strong>; accept <em>L\\u2019<strong><em>\\xc9tranger</em></strong></em>)\",\n",
       " u'[10] In the book <em>S/Z</em>, Roland Barthes [\\u201cbart\\u201d] analyzed five codes used by Balzac in this novella. The title character of this novella falls in love with Zambinella before discovering she\\u2019s actually a male castrato.',\n",
       " u'ANSWER: <em><strong><em>Sarrasine</em></strong></em>',\n",
       " u'3. The study of this subject is paired with rhetoric and grammar in the trivium of the liberal arts education. For 10 points each:',\n",
       " u'[10] Name this subfield of philosophy, the systematic study of arguments and their structures. Syllogisms are examples of arguments studied in this subject, as well as statements like \\u201cA implies B.\\u201d',\n",
       " u'ANSWER: <strong><em>logic</em></strong>',\n",
       " u'[10] This German philosopher founded analytic philosophy and tried to ground mathematics in logic with works like <em>Foundations of Arithmetic</em> and <em>Begriffsschrift</em>. In his namesake \\u201cPuzzle,\\u201d he contrasted calling a certain entity by the names of either Hesperus or Phosphorus.',\n",
       " u'ANSWER: Gottlob <strong><em>Frege</em></strong>',\n",
       " u'[10] This British logician continued Frege\\u2019s project with his <em>Principia Mathematica</em>, in which he and Alfred North Whitehead proved that \\u201c1 + 1 = 2.\\u201d He also names a paradox in set theory.',\n",
       " u'ANSWER: Bertrand <strong><em>Russell</em></strong>',\n",
       " u'4. The largest ecoregion of this biome in the world is located in Siberia. For 10 points each:',\n",
       " u'[10] Name this largest land biome on Earth. It is dominated by coniferous forests, and the acidic and nutrient-poor soils of this biome are called spodosols.',\n",
       " u'ANSWER: <strong><em>taiga</em></strong> (or <strong><em>boreal forest</em></strong>)',\n",
       " u'[10] A better known biome is this extremely dry kind. The typical imagery of them is the hot and dry kind, though there are also coastal and cold varieties.',\n",
       " u'ANSWER: <strong><em>desert</em></strong>',\n",
       " u'[10] The climate of taigas is classified as Dfc, Dwc, and Dsc according to this climate classification system. Within this system, tropical climates fall under Group A, while dry climates fall under Group B.',\n",
       " u'ANSWER: <strong><em>K\\xf6ppen</em></strong> climate classification',\n",
       " u'5. To avoid dying out, these people visited the all-male Gargareans. For 10 points each:',\n",
       " u'[10] Name these mythical Greek warrior women. In some accounts, they cut off their left breast to improve their skill with the bow and arrow.',\n",
       " u'ANSWER: <strong><em>Amazon</em></strong>s',\n",
       " u'[10] This man briefly fought the Amazons when they tried to invade Lycia. In a far more notable tale, this man used Pegasus and a lead block on a spear to kill the Chimera.',\n",
       " u'ANSWER: <strong><em>Bellerophon</em></strong>',\n",
       " u'[10] Theseus once abducted this Amazon while Heracles tried to obtain the girdle of her sister. Theseus then had the child Hippolytus [\\u201chip-POL-uh-tus\\u201d] with this woman, who later died during the Attic war.',\n",
       " u'ANSWER: <strong><em>Antiope</em></strong> [\\u201can-TIE-uh-pee\\u201d]',\n",
       " u'6. This novel was written while its author was in Honduras on the run from Texas authorities trying to arrest him for embezzlement. For 10 points each:',\n",
       " u'[10] Name this collection of stories. It is set in the Republic of Anchuria, which served as the basis for the modern term \\u201cbanana republic.\\u201d',\n",
       " u'ANSWER: <em><strong><em>Cabbages and Kings</em></strong></em>',\n",
       " u'[10] In this short story by the author of <em>Cabbages and Kings</em>, Jim sells his gold watch to buy a set of \\u201ccombs,\\u201d and Della sell her hair to buy a new watch chain.',\n",
       " u'ANSWER: \\u201c<strong><em>The Gift of the Magi</em></strong>\\u201d',\n",
       " u'[10] <em>Cabbages and Kings</em> and \\u201cThe Gift of the Magi\\u201d are both works by this pseudonymous American writer fond of twist endings.',\n",
       " u'ANSWER: O. <strong><em>Henry</em></strong> (or William Sydney <strong><em>Porter</em></strong>)',\n",
       " u'7. For 10 points each, name the following things related to the deadliest animal in the world:',\n",
       " u'[10] First, name this animal whose bites result in the death of more than a million people every year. These blood-sucking pests carry diseases such as yellow fever, West Nile fever, and dengue.',\n",
       " u'ANSWER: <strong><em>mosquito</em></strong>es (accept <em><strong><em>Culicidae</em></strong></em>; accept specific species; <em>Writer\\u2019s note:</em> <em>prompt on</em> <em><em>those annoying little @#$% that bit me non-stop during my summer in New York</em></em>)',\n",
       " u'[10] Mosquitoes of the genus <em>Anopheles</em> transmit this protozoan disease caused by various <em>Plasmodium</em> species. Patients lacking the Duffy antigen on red blood cells are genetically resistant to this disease.',\n",
       " u'ANSWER: <strong><em>malaria</em></strong>',\n",
       " u'[10] Tu Youyou received the 2015 Nobel Prize in Physiology or Medicine for discovering this antimalarial drug that isn\\u2019t quinine. This drug contains an endoperoxide bridge that researchers believe is essential for its mechanism.',\n",
       " u'ANSWER: <strong><em>artemisinin</em></strong>',\n",
       " u'8. In one work from this movement, the performer walks around an art gallery covered in honey and carrying the corpse of the title animal. For 10 points each:',\n",
       " u'[10] Name this avant-garde movement which created many \\u201chappenings,\\u201d such as Joseph Beuys\\u2019 <em>How to Explain Pictures to a Dead Hare</em>. Its manifesto was written by George Maciunas.',\n",
       " u'ANSWER: <strong><em>Fluxus</em></strong> (prompt on \\u201cNeo-Dada\\u201d)',\n",
       " u'[10] Beuys lived with a coyote for three days in a performance called <em>I Like [this country] and [this country] Likes Me</em>. 20<sup>th</sup> century artists from this nation included Robert Rauschenberg and Andy Warhol.',\n",
       " u'ANSWER: <strong><em>United States</em></strong> of <strong><em>America</em></strong> (accept either underlined part; accept <strong><em>US</em></strong>A)',\n",
       " u'[10] This Fluxus artist had audience members snip off her clothing in <em>Cut Piece</em>. An Annie Leibovitz photo shows her lying naked with her husband and was taken the day he was shot by Mark David Chapman.',\n",
       " u'ANSWER: Yoko <strong><em>Ono</em></strong> (do not accept or prompt on \\u201cLennon\\u201d)',\n",
       " u'9. The agency that manages this lake came under fire in July 2016 for allowing algae-polluted discharges from it to flow into the St. Lucie River. For 10 points each:',\n",
       " u'[10] Name this expansive inland body of water situated near the Everglades, the largest freshwater lake in the state of Florida.',\n",
       " u'ANSWER: Lake <strong><em>Okeechobee</em></strong> (prompt on The <em>Big O</em>)',\n",
       " u'[10] The flora of Lake Okeechobee and the Everglades are dominated by this type of plant in the genus <em>Cladium</em>. They are the eponymous \\u201cgrasses\\u201d in the Everglades\\u2019 nickname, the \\u201cRiver of Grass.\\u201d',\n",
       " u'ANSWER: <strong><em>sawgrass</em></strong> (or <strong><em>fen-sedge</em></strong>; or <strong><em>twin-sedge</em></strong>; prompt on <em>sedge</em>)',\n",
       " u'[10] Roughly 100 miles north of Lake Okeechobee lies this seat of Orange County. Attractions accessible in this city via International Drive include Universal Studios and SeaWorld.',\n",
       " u'ANSWER: <strong><em>Orlando</em></strong>',\n",
       " u'10. Name the following related to American female photographers, for 10 points each:',\n",
       " u'[10] One of Margaret Bourke-White\\u2019s most iconic photographs depicts this Indian independence leader reading next to his spinning wheel.',\n",
       " u'ANSWER: Mohandas (Karamchand) <strong><em>Gandhi</em></strong> (or Mahatma <strong><em>Gandhi</em></strong>)',\n",
       " u'[10] Dorothea Lange took this photograph of Florence Owens Thompson during the Great Depression. Lange incorrectly recalled that the subject of this photograph had sold her family\\u2019s tires for food.',\n",
       " u'ANSWER: <em><strong><em>Migrant Mother</em></strong></em>',\n",
       " u'[10] This photographer used prosthetics and mannequins to make her <em>Sex Pictures</em>, and she depicted herself in sixty-nine stereotypical film roles in the series <em>Untitled Film Stills</em>.',\n",
       " u'ANSWER: Cindy <strong><em>Sherman</em></strong>',\n",
       " u'11. Answer the following about hip-hop music made before y\\u2019all were born, for 10 points each:',\n",
       " u'[10] This West Coast artist of the album <em>All Eyez on Me</em> was killed in an unsolved 1996 drive-by shooting in Las Vegas, which some claim was orchestrated by his rival Notorious B.I.G.',\n",
       " u'ANSWER: <strong><em>Tupac</em></strong> <strong><em>Shakur</em></strong> (accept either underlined portion; or Lesane Parish <strong><em>Crooks</em></strong>; or <strong><em>Makaveli</em></strong>; or <strong><em>2Pac</em></strong>, if you can somehow tell the difference)',\n",
       " u'[10] This 1988 N.W.A. album kickstarted gangster rap with songs like \\u201cF--- the Police.\\u201d It was produced by Dr. Dre, and is named for a suburb of Los Angeles.',\n",
       " u'ANSWER: <em><strong><em>Straight Outta Compton</em></strong></em> (<em>Ed\\u2019s note: good for you if you know the song\\u2019s real title, but regrettably this was written for high school</em>)',\n",
       " u'[10] The term \\u201chip-hop\\u201d was coined by Keith Cowboy, a member of this group that also included Melle Mel and The Kidd Creole. They pioneered socially-conscious hip-hop with songs like \\u201cThe Message.\\u201d',\n",
       " u'ANSWER: <strong><em>Grandmaster Flash and the Furious Five</em></strong> (prompt on partial answer)',\n",
       " u'12. This religion celebrates April 21st as Grounation Day. For 10 points each:',\n",
       " u'[10] Name this religion. Its followers adhere to a natural diet meant to enhance their \\u201clivity\\u201d called <em>I-tal</em>, and they believe that Jesus Christ was reincarnated as Haile Selassie I.',\n",
       " u'ANSWER: <strong><em>Rastafari</em></strong>anism (or <strong><em>Rasta</em></strong>)',\n",
       " u'[10] Rastafarianism is particularly popular on this Caribbean island nation. Its neighborhood of Trench Town was home to Rastafari elder Mortimer Planno, who mentored a young Bob Marley.',\n",
       " u'ANSWER: <strong><em>Jamaica</em></strong>',\n",
       " u'[10] Some Rastafarians belong to these smaller sects whose name derives from John 14:2. Examples of these groups include the Niyabinghi, Bobo Ashanti, and one named for the Twelve Tribes of Israel.',\n",
       " u'ANSWER: <strong><em>Mansion</em></strong>s of Rastafari',\n",
       " u'13. According to Wikipedia, this man recovered to become a successful moose hunter after having half of his face blown off by a bullet. For 10 points each:',\n",
       " u'[10] Name this marksman nicknamed \\u201cWhite Death\\u201d for his 505 confirmed sniper kills, the most in history.',\n",
       " u'ANSWER: Simo <strong><em>H\\xe4yh\\xe4</em></strong> (or Simuna <strong><em>H\\xe4yh\\xe4</em></strong>)',\n",
       " u'[10] H\\xe4yh\\xe4 helped this country inflict massive casualties on the Soviets during the Winter War. This country then signed the Moscow Peace Treaty, but resumed fighting with the USSR in the Continuation War.',\n",
       " u'ANSWER: Republic of <strong><em>Finland</em></strong> (or <strong><em>Suomi</em></strong> or <strong><em>Suomen</em></strong> tasavalta)',\n",
       " u'[10] The Soviet Union was expelled from this organization for instigating the Winter War. It really didn\\u2019t matter, since this ineffectual organization would be replaced by the United Nations less than a decade later.',\n",
       " u'ANSWER: <strong><em>League of Nations</em></strong>',\n",
       " u'14. Apple just released another new Mac, and naturally you\\u2019re too poor to buy one, so instead you decide to build your own PC. For 10 points each:',\n",
       " u'[10] Not knowing much, you ask the store clerk where you can download some RAM. The clerk informs you that RAM is actually a physical component that holds the \\u201cRandom Access [this].\\u201d There\\u2019s also a Read-Only component for this data storage medium.',\n",
       " u'ANSWER: <strong><em>memory</em></strong> (accept \\u201cRandom Access <strong><em>Memory</em></strong>\\u201d or \\u201cRead-Only <strong><em>Memory</em></strong>\\u201d)',\n",
       " u'[10] Knowing a little more now, you learn you need one of these main components. These circuit boards are the foundation of the computer, and are connected to memory and the CPU.',\n",
       " u'ANSWER: <strong><em>motherboard</em></strong> (accept <strong><em>mainboard</em></strong> or <strong><em>system board</em></strong> or <strong><em>logic board</em></strong> or <strong><em>m</em></strong>o<strong><em>b</em></strong>o)',\n",
       " u'[10] The motherboard is also attached to these components that allow the various PC components to talk to each other. In a computer, there are internal and expansion kinds, and USB is just an industry standard for these components.',\n",
       " u'ANSWER: <strong><em>bus</em></strong>es (accept different kinds of <strong><em>bus</em></strong>es; accept Universal Serial <strong><em>Bus</em></strong>, but not just, like \\u201cSerial\\u201d)',\n",
       " u'15. This piece was inspired by the composer hearing the sounds of his heartbeat and nervous system in an anechoic chamber. For 10 points each:',\n",
       " u'[10] Name this composition performable by any combination of instruments. At its premiere, David Tudor marked the beginning and end of movements by raising and lowering the lid of a piano, and it\\u2019s marked \\u201cTacet.\\u201d',\n",
       " u'ANSWER: <em><strong><em>4\\u201933\\u201d</em></strong></em> [\\u201cfour minutes thirty-three seconds\\u201d or \\u201cfour thirty-three\\u201d]',\n",
       " u'[10] The totally silent <em>4\\u201933\\u201d</em> is the most famous work by this modern American composer, who used the <em>I Ching</em> to write his <em>Music of Changes</em>.',\n",
       " u'ANSWER: John (Milton) <strong><em>Cage</em></strong>(, Jr.)',\n",
       " u'[10] Cage also wrote five pieces with this two-word name. The fourth of these pieces calls for 24 performers to adjust the dials on 12 radios.',\n",
       " u'ANSWER: <em><strong><em>Imaginary Landscape</em></strong></em> (accept the plural since it\\u2019s a set of multiple works, but note that each individual one is called <em>Imaginary Landscape No. whatever</em>, with no plural)',\n",
       " u'16. Answer the following about so-called \\u201cgreat\\u201d things in American history, for 10 points each:',\n",
       " u'[10] This president\\u2019s \\u201cGreat Society\\u201d included initiatives such as Medicare and Medicaid, as well as a \\u201cWar on Poverty.\\u201d',\n",
       " u'ANSWER: <strong><em>L</em></strong>yndon B(aines) <strong><em>Johnson</em></strong> (or <strong><em>LBJ</em></strong>; prompt on \\u201cJohnson\\u201d)',\n",
       " u'[10] The 1929 stock market crash and subsequent Great Depression led to the creation of shantytowns named after this president, who would be defeated by Franklin Roosevelt in the 1932 election.',\n",
       " u'ANSWER: Herbert (Clark) <strong><em>Hoover</em></strong> (accept <strong><em>Hoover</em></strong>villes)',\n",
       " u'[10] After the fall of Louisbourg during the French and Indian War, the Great Expulsion displaced more than 10,000 of these French-speaking people from Canada. Some moved to Louisiana, where they became known as Cajuns.',\n",
       " u'ANSWER: <strong><em>Acadian</em></strong>s',\n",
       " u'17. The title character of one of this woman\\u2019s works grows up with a boy nicknamed \\u201cBaasie,\\u201d who later becomes angry with her for never learning his real name. For 10 points each:',\n",
       " u'[10] Name this author who wrote about Rosa and her Communist parents in <em>Burger\\u2019s Daughter</em>. The Smales are forced to take shelter in their servant\\u2019s village in her book <em>July\\u2019s People</em>.',\n",
       " u'ANSWER: Nadine <strong><em>Gordimer</em></strong>',\n",
       " u'[10] Gordimer wrote extensively about the effects of apartheid in this native country of hers.',\n",
       " u'ANSWER: Republic of <strong><em>South Africa</em></strong>',\n",
       " u'[10] Andr\\xe9 Brink and Breyten Breytenbach led this group of Afrikaans-speaking anti-apartheid writers. Their name comes from the Afrikaans for \\u201cSixties,\\u201d the decade in which they were most active.',\n",
       " u'ANSWER: <strong><em>Sestig</em></strong>ers',\n",
       " u'18. The constant-volume type of this device is also known as the \\u201cbomb\\u201d type. For 10 points each:',\n",
       " u'[10] Name these devices that measure the heat produced by chemical reactions. When using these devices, you typically take the temperature change and multiply by the specific heat and mass.',\n",
       " u'ANSWER: <strong><em>calorimeter</em></strong>s (accept word forms)',\n",
       " u'[10] Isothermal titration calorimetry can be used in this branch of chemistry to determine the needed amounts of starting reagent to reach the midpoint. In general, this branch of chemistry uses chemical equations to find the proper ratios of start reactants to achieve desired product.',\n",
       " u'ANSWER: <strong><em>stoichiometry</em></strong> (accept word forms)',\n",
       " u'[10] In this variant of calorimetry, the heat capacity of a sample is measured as a function of temperature. The thermal transitions of a polymer can be determined using this technique.',\n",
       " u'ANSWER: <strong><em>differential scanning</em></strong> calorimetry (prompt on <em>DSC</em>)',\n",
       " u'19. A famous example of these infrastructure projects was swiftly replaced after its creator\\u2019s death by Antoninus Pius, who built a more northerly version. For 10 points each:',\n",
       " u'[10] Name these common fortifications. One of these was built in Britain to keep out barbarians such as the Picts and was named for Hadrian.',\n",
       " u'ANSWER: <strong><em>wall</em></strong>s (or <strong><em>vallum</em></strong>)',\n",
       " u'[10] The Antonine Wall is sometimes misattributed to Septimius Severus, who won a power struggle in 193 called the \\u201cYear of [this many] Emperors.\\u201d Marcus Aurelius was the last of this many \\u201cGood\\u201d Roman emperors.',\n",
       " u'ANSWER: <strong><em>five</em></strong>',\n",
       " u'[10] Several centuries after Hadrian, this powerful Mercian king continued the fine tradition of English wall-building by constructing his namesake dyke near the present English-Welsh border.',\n",
       " u'ANSWER: <strong><em>Offa</em></strong> of Mercia',\n",
       " u'20. The title character of this novel is amazed by a skywriting plane before entering a flower shop, where she gets the bejeezus scared out of her by the sound of a backfiring car. For 10 points each:',\n",
       " u'[10] Name this novel, whose protagonist hosts a party at which she learns of the suicide of Septimus Smith. The first name of this book\\u2019s title character is Clarissa.',\n",
       " u'ANSWER: <em><strong><em>Mrs. Dalloway</em></strong></em>',\n",
       " u'[10] <em>Mrs. Dalloway</em> is a work by this female British author of the feminist essay \\u201cA Room of One\\u2019s Own.\\u201d She also wrote the stream-of-consciousness heavy <em>To the Lighthouse</em>.',\n",
       " u'ANSWER: (Adeline) Virginia <strong><em>Woolf</em></strong>',\n",
       " u'[10] The gender-shifting protagonist of Woolf\\u2019s novel <em>Orlando</em> was inspired by this friend and sometimes lover of hers, whose own literary feats include <em>The Edwardians</em> and <em>All Passion Spent</em>.',\n",
       " u'ANSWER: Vita <strong><em>Sackville-West</em></strong> (or Victoria Mary <strong><em>Sackville-West</em></strong>; or the Lady <strong><em>Nicholson</em></strong>)',\n",
       " u'21. All your wildest dreams have come true--you are now Hulagu Khan. Answer some questions about your exploits for 10 points each:',\n",
       " u'[10] In 1256, you conquer Alamut, a stronghold of this sect of hashish-using warriors who give their name to the modern word for politically motivated murders.',\n",
       " u'ANSWER: <strong><em>Assassin</em></strong>s (prompt on <em>Nizari</em>s; prompt on <em>Isma\\u2019ili</em>s)',\n",
       " u'[10] You then go on to sack this city in 1258, an important center of Abbasid learning. Your destruction of the House of Wisdom in this city is said to have caused rivers to run black with ink.',\n",
       " u'ANSWER: <strong><em>Baghdad</em></strong>',\n",
       " u'[10] Unfortunately, you miss this 1260 battle because the death of your brother Mongke forces you to return to Mongolia. Your general Kitbuga gets crushed by Mamluks under Baibars here, halting Mongol expansion into Palestine.',\n",
       " u'ANSWER: Battle of <strong><em>Ain Jalut</em></strong>']"
      ]
     },
     "execution_count": 187,
     "metadata": {},
     "output_type": "execute_result"
    }
   ],
   "source": [
    "p.load_html()"
   ]
  },
  {
   "cell_type": "code",
   "execution_count": 265,
   "metadata": {},
   "outputs": [],
   "source": [
    "p = Packet(filename, \"HFT XVI\", \"2\")\n",
    "tossups, bonuses = p.parse_packet()"
   ]
  },
  {
   "cell_type": "code",
   "execution_count": 266,
   "metadata": {},
   "outputs": [],
   "source": [
    "p.dump_yaml()"
   ]
  },
  {
   "cell_type": "code",
   "execution_count": 275,
   "metadata": {},
   "outputs": [],
   "source": [
    "r = re.compile(\"\\d\")"
   ]
  },
  {
   "cell_type": "code",
   "execution_count": 274,
   "metadata": {},
   "outputs": [
    {
     "data": {
      "text/plain": [
       "'c'"
      ]
     },
     "execution_count": 274,
     "metadata": {},
     "output_type": "execute_result"
    }
   ],
   "source": [
    "r.sub('c', '9')"
   ]
  },
  {
   "cell_type": "code",
   "execution_count": null,
   "metadata": {},
   "outputs": [],
   "source": []
  }
 ],
 "metadata": {
  "kernelspec": {
   "display_name": "Python 2",
   "language": "python",
   "name": "python2"
  },
  "language_info": {
   "codemirror_mode": {
    "name": "ipython",
    "version": 2
   },
   "file_extension": ".py",
   "mimetype": "text/x-python",
   "name": "python",
   "nbconvert_exporter": "python",
   "pygments_lexer": "ipython2",
   "version": "2.7.13"
  }
 },
 "nbformat": 4,
 "nbformat_minor": 2
}
